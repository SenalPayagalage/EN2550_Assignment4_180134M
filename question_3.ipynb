{
  "nbformat": 4,
  "nbformat_minor": 0,
  "metadata": {
    "colab": {
      "name": "question_3.ipynb",
      "provenance": [],
      "collapsed_sections": []
    },
    "kernelspec": {
      "name": "python3",
      "display_name": "Python 3"
    },
    "language_info": {
      "name": "python"
    }
  },
  "cells": [
    {
      "cell_type": "code",
      "metadata": {
        "id": "5sOF8QCnyf5k"
      },
      "source": [
        "import tensorflow as tf\n",
        "from tensorflow import keras\n",
        "import numpy as np\n",
        "import matplotlib.pyplot as plt"
      ],
      "execution_count": 1,
      "outputs": []
    },
    {
      "cell_type": "code",
      "metadata": {
        "colab": {
          "base_uri": "https://localhost:8080/"
        },
        "id": "nc_vwHjvylbF",
        "outputId": "d1d76bca-bdf8-462c-8c1d-c2a728455485"
      },
      "source": [
        "(x_train, y_train), (x_test, y_test) = keras.datasets.cifar10.load_data()\n",
        "print('x_train: ', x_train.shape)"
      ],
      "execution_count": 2,
      "outputs": [
        {
          "output_type": "stream",
          "text": [
            "Downloading data from https://www.cs.toronto.edu/~kriz/cifar-10-python.tar.gz\n",
            "170500096/170498071 [==============================] - 3s 0us/step\n",
            "x_train:  (50000, 32, 32, 3)\n"
          ],
          "name": "stdout"
        }
      ]
    },
    {
      "cell_type": "code",
      "metadata": {
        "colab": {
          "base_uri": "https://localhost:8080/"
        },
        "id": "6GwTKaMZynaA",
        "outputId": "2a5aa60a-cb90-48cd-cc4c-905eb3631bef"
      },
      "source": [
        "K = len(np.unique(y_train)) # Classes\n",
        "Ntr = x_train.shape[0]\n",
        "\n",
        "Nte = x_test.shape[0]\n",
        "Din = 3072 # CIFAR10    #32 x 32 x 3\n",
        "# Din = 784 # MINIST\n",
        "\n",
        "\n",
        "# Normalize pixel values\n",
        "#x_train, x_test = x_train / 255.0, x_test / 255.0\n",
        "mean_image = np.mean(x_train, axis=0)\n",
        "x_train = x_train - mean_image\n",
        "x_test = x_test - mean_image\n",
        "\n",
        "print('y_train: ', y_train.shape)\n",
        "y_train = tf.keras.utils.to_categorical(y_train, num_classes=K)\n",
        "y_test = tf.keras.utils.to_categorical(y_test, num_classes=K)\n",
        "print('y_train: ', y_train.shape)\n",
        "\n",
        "x_train = np.reshape(x_train,(Ntr,Din))\n",
        "x_test = np.reshape(x_test,(Nte,Din))\n",
        "x_train = x_train.astype('float32')\n",
        "x_test = x_test.astype('float32')"
      ],
      "execution_count": 3,
      "outputs": [
        {
          "output_type": "stream",
          "text": [
            "y_train:  (50000, 1)\n",
            "y_train:  (50000, 10)\n"
          ],
          "name": "stdout"
        }
      ]
    },
    {
      "cell_type": "code",
      "metadata": {
        "colab": {
          "base_uri": "https://localhost:8080/"
        },
        "id": "DnIOoWSMyq1_",
        "outputId": "fa2c43a8-11a3-49d2-bea6-24e05ce32271"
      },
      "source": [
        "H = 200\n",
        "std=1e-6\n",
        "w1 = std*np.random.randn(Din, H)\n",
        "w2 = std*np.random.randn(H, K)\n",
        "b1 = np.zeros(H)\n",
        "b2 = np.zeros(K)\n",
        "print(\"w1:\", w1.shape)\n",
        "print(\"b1:\", b1.shape)\n",
        "print(\"w2:\", w1.shape)\n",
        "print(\"b2:\", b1.shape)\n",
        "batch_size = Ntr\n",
        "\n",
        "iterations = 300 #round(Ntr/batch_size)*1000\n",
        "lr = 1.4e-2\n",
        "lr_decay = 0.999\n",
        "reg = 5e-6\n",
        "loss_history = []\n",
        "train_acc_history = []\n",
        "val_acc_history = []\n",
        "batch_size = 500\n",
        "seed = 0\n",
        "rng = np.random.default_rng(seed=seed)\n",
        "\n",
        "for t in range(iterations):\n",
        "    for i in range(0,Ntr,batch_size):\n",
        "        h = 1.0/(1.0+np.exp(-(x_train[i:i+batch_size].dot(w1)+b1)))\n",
        "        y_pred = h.dot(w2)+b2\n",
        "\n",
        "        loss = 1./batch_size*np.square(y_pred-y_train[i:i+batch_size]).sum() + reg*(np.sum(w2*w2)+np.sum(w1*w1))\n",
        "        loss_history.append(loss)\n",
        "    \n",
        "        # Backward pass\n",
        "        dy_pred = 1./batch_size*2.0*(y_pred-y_train[i:i+batch_size])\n",
        "        dw2 = h.T.dot(dy_pred)+reg*w2\n",
        "        db2 = dy_pred.sum(axis = 0)\n",
        "        dh = dy_pred.dot(w2.T)\n",
        "        dw1 = x_train[i:i+batch_size].T.dot(dh*h*(1-h))+reg*w1\n",
        "        db1 = (dh*h*(1-h)).sum(axis=0)\n",
        "        w1 = w1-lr*dw1\n",
        "        w2 = w2-lr*dw2\n",
        "        b1 = b1-lr*db1\n",
        "        b2 = b2-lr*db2\n",
        "        lr = lr*lr_decay\n",
        "\n",
        "\n",
        "    #train data accuracy\n",
        "    h_train = 1.0/(1.0+np.exp(-(x_train.dot(w1)+b1)))\n",
        "    y_pred_train = h_train.dot(w2)+b2\n",
        "    train_acc = 1/Ntr*(np.argmax(y_train,axis=1)==np.argmax(y_pred_train,axis=1)).sum()\n",
        "    train_acc_history.append(train_acc)\n",
        "\n",
        "    #test data acuracy\n",
        "    h_test = 1.0/(1.0+np.exp(-(x_test.dot(w1)+b1)))\n",
        "    y_pred_test = h_test.dot(w2)+b2\n",
        "    test_acc = 1/Nte*(np.argmax(y_test,axis=1)==np.argmax(y_pred_test,axis=1)).sum()\n",
        "    val_acc_history.append(test_acc)\n",
        "\n",
        "    if t%20==0:\n",
        "        print(\"Iteration \" + str(t) + \" : loss = \" + str(loss))\n",
        "        print(\"train accuracy :\", train_acc)\n",
        "        print(\"test accuracy :\", test_acc)"
      ],
      "execution_count": 4,
      "outputs": [
        {
          "output_type": "stream",
          "text": [
            "w1: (3072, 200)\n",
            "b1: (200,)\n",
            "w2: (3072, 200)\n",
            "b2: (200,)\n",
            "Iteration 0 : loss = 0.7943489862814741\n",
            "train accuracy : 0.38346\n",
            "test accuracy : 0.3774\n",
            "Iteration 20 : loss = 0.6265143843597619\n",
            "train accuracy : 0.5879000000000001\n",
            "test accuracy : 0.4592\n",
            "Iteration 40 : loss = 0.6036200954597976\n",
            "train accuracy : 0.63488\n",
            "test accuracy : 0.4606\n",
            "Iteration 60 : loss = 0.6000693703358854\n",
            "train accuracy : 0.644\n",
            "test accuracy : 0.46080000000000004\n",
            "Iteration 80 : loss = 0.5993287164316614\n",
            "train accuracy : 0.6453000000000001\n",
            "test accuracy : 0.461\n",
            "Iteration 100 : loss = 0.5992197795649825\n",
            "train accuracy : 0.6453000000000001\n",
            "test accuracy : 0.4612\n",
            "Iteration 120 : loss = 0.5992048827636567\n",
            "train accuracy : 0.6453000000000001\n",
            "test accuracy : 0.46130000000000004\n",
            "Iteration 140 : loss = 0.5992028656452254\n",
            "train accuracy : 0.64532\n",
            "test accuracy : 0.46130000000000004\n",
            "Iteration 160 : loss = 0.5992025928748443\n",
            "train accuracy : 0.64532\n",
            "test accuracy : 0.46130000000000004\n",
            "Iteration 180 : loss = 0.5992025559952836\n",
            "train accuracy : 0.64532\n",
            "test accuracy : 0.46130000000000004\n",
            "Iteration 200 : loss = 0.5992025510091509\n",
            "train accuracy : 0.64532\n",
            "test accuracy : 0.46130000000000004\n",
            "Iteration 220 : loss = 0.5992025503350259\n",
            "train accuracy : 0.64532\n",
            "test accuracy : 0.46130000000000004\n",
            "Iteration 240 : loss = 0.5992025502438841\n",
            "train accuracy : 0.64532\n",
            "test accuracy : 0.46130000000000004\n",
            "Iteration 260 : loss = 0.5992025502315617\n",
            "train accuracy : 0.64532\n",
            "test accuracy : 0.46130000000000004\n",
            "Iteration 280 : loss = 0.5992025502298957\n",
            "train accuracy : 0.64532\n",
            "test accuracy : 0.46130000000000004\n"
          ],
          "name": "stdout"
        }
      ]
    },
    {
      "cell_type": "code",
      "metadata": {
        "id": "zDlaVckpbI10",
        "colab": {
          "base_uri": "https://localhost:8080/",
          "height": 296
        },
        "outputId": "76b0d97b-5641-4150-9b58-1975c8e112a5"
      },
      "source": [
        "#loss\n",
        "fig , ax = plt.subplots()\n",
        "ax.plot(loss_history, label='loss')\n",
        "ax.set_xlabel('Epochs')\n",
        "ax.set_ylabel('Loss')"
      ],
      "execution_count": 5,
      "outputs": [
        {
          "output_type": "execute_result",
          "data": {
            "text/plain": [
              "Text(0, 0.5, 'Loss')"
            ]
          },
          "metadata": {
            "tags": []
          },
          "execution_count": 5
        },
        {
          "output_type": "display_data",
          "data": {
            "image/png": "[encoded data removed]",
            "text/plain": [
              "<Figure size 432x288 with 1 Axes>"
            ]
          },
          "metadata": {
            "tags": [],
            "needs_background": "light"
          }
        }
      ]
    },
    {
      "cell_type": "code",
      "metadata": {
        "colab": {
          "base_uri": "https://localhost:8080/",
          "height": 296
        },
        "id": "C0CBbFdy6NSU",
        "outputId": "5c095a67-4d8a-4c2e-ee5c-dab0a794ba47"
      },
      "source": [
        "#Train and Test accuracies\n",
        "fig , ax = plt.subplots()\n",
        "ax.plot(train_acc_history, label='Train set accuracy')\n",
        "ax.plot(val_acc_history, label = 'Test set accuracy')\n",
        "ax.set_xlabel('Epochs')\n",
        "ax.set_ylabel('Accuracy')\n",
        "ax.legend()"
      ],
      "execution_count": 6,
      "outputs": [
        {
          "output_type": "execute_result",
          "data": {
            "text/plain": [
              "<matplotlib.legend.Legend at 0x7feceb8d8450>"
            ]
          },
          "metadata": {
            "tags": []
          },
          "execution_count": 6
        },
        {
          "output_type": "display_data",
          "data": {
            "image/png": "[encoded data removed]",
            "text/plain": [
              "<Figure size 432x288 with 1 Axes>"
            ]
          },
          "metadata": {
            "tags": [],
            "needs_background": "light"
          }
        }
      ]
    },
    {
      "cell_type": "code",
      "metadata": {
        "colab": {
          "base_uri": "https://localhost:8080/"
        },
        "id": "TWluG2kp6O-p",
        "outputId": "7b2cd8b8-1511-4497-f226-f146c706f895"
      },
      "source": [
        "print(\"Initial learning rate: \" + str(1.4e-2) + \", Train set accuracy: \" + str(train_acc_history[-1]) + \", Test set accuracy: \" + str(val_acc_history[-1]))"
      ],
      "execution_count": 7,
      "outputs": [
        {
          "output_type": "stream",
          "text": [
            "Initial learning rate: 0.014, Train set accuracy: 0.64532, Test set accuracy: 0.46130000000000004\n"
          ],
          "name": "stdout"
        }
      ]
    },
    {
      "cell_type": "code",
      "metadata": {
        "id": "V43E6-VqMjH6"
      },
      "source": [
        ""
      ],
      "execution_count": null,
      "outputs": []
    }
  ]
}