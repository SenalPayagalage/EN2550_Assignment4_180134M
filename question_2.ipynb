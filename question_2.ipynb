{
  "nbformat": 4,
  "nbformat_minor": 0,
  "metadata": {
    "colab": {
      "name": "question_2.ipynb",
      "provenance": [],
      "collapsed_sections": []
    },
    "kernelspec": {
      "name": "python3",
      "display_name": "Python 3"
    },
    "language_info": {
      "name": "python"
    }
  },
  "cells": [
    {
      "cell_type": "code",
      "metadata": {
        "id": "s7CEL0qALn5m"
      },
      "source": [
        "import tensorflow as tf\n",
        "from tensorflow import keras\n",
        "import numpy as np\n",
        "import matplotlib.pyplot as plt"
      ],
      "execution_count": 1,
      "outputs": []
    },
    {
      "cell_type": "code",
      "metadata": {
        "colab": {
          "base_uri": "https://localhost:8080/"
        },
        "id": "jkkRc5gOLyne",
        "outputId": "d9b4293b-60f7-400a-df7a-d6e7af94b6bf"
      },
      "source": [
        "(x_train, y_train), (x_test, y_test) = keras.datasets.cifar10.load_data()\n",
        "print('x_train: ', x_train.shape)"
      ],
      "execution_count": 2,
      "outputs": [
        {
          "output_type": "stream",
          "text": [
            "Downloading data from https://www.cs.toronto.edu/~kriz/cifar-10-python.tar.gz\n",
            "170500096/170498071 [==============================] - 2s 0us/step\n",
            "x_train:  (50000, 32, 32, 3)\n"
          ],
          "name": "stdout"
        }
      ]
    },
    {
      "cell_type": "code",
      "metadata": {
        "colab": {
          "base_uri": "https://localhost:8080/"
        },
        "id": "QGFgrPhcL97V",
        "outputId": "2fd16b63-d9c7-4409-b574-36c8b8576af5"
      },
      "source": [
        "K = len(np.unique(y_train)) # Classes\n",
        "Ntr = x_train.shape[0]\n",
        "\n",
        "Nte = x_test.shape[0]\n",
        "Din = 3072 # CIFAR10    #32 x 32 x 3\n",
        "# Din = 784 # MINIST\n",
        "\n",
        "\n",
        "# Normalize pixel values\n",
        "#x_train, x_test = x_train / 255.0, x_test / 255.0\n",
        "mean_image = np.mean(x_train, axis=0)\n",
        "x_train = x_train - mean_image\n",
        "x_test = x_test - mean_image\n",
        "\n",
        "print('y_train: ', y_train.shape)\n",
        "y_train = tf.keras.utils.to_categorical(y_train, num_classes=K)\n",
        "y_test = tf.keras.utils.to_categorical(y_test, num_classes=K)\n",
        "print('y_train: ', y_train.shape)\n",
        "\n",
        "x_train = np.reshape(x_train,(Ntr,Din))\n",
        "x_test = np.reshape(x_test,(Nte,Din))\n",
        "x_train = x_train.astype('float32')\n",
        "x_test = x_test.astype('float32')"
      ],
      "execution_count": 3,
      "outputs": [
        {
          "output_type": "stream",
          "text": [
            "y_train:  (50000, 1)\n",
            "y_train:  (50000, 10)\n"
          ],
          "name": "stdout"
        }
      ]
    },
    {
      "cell_type": "code",
      "metadata": {
        "colab": {
          "base_uri": "https://localhost:8080/"
        },
        "id": "h64a7coGL_25",
        "outputId": "ae208773-6142-499f-b242-41478c8ea522"
      },
      "source": [
        "H = 200\n",
        "std=1e-5\n",
        "w1 = std*np.random.randn(Din, H)\n",
        "w2 = std*np.random.randn(H, K)\n",
        "b1 = np.zeros(H)\n",
        "b2 = np.zeros(K)\n",
        "print(\"w1:\", w1.shape)\n",
        "print(\"b1:\", b1.shape)\n",
        "print(\"w2:\", w1.shape)\n",
        "print(\"b2:\", b1.shape)\n",
        "batch_size = Ntr\n",
        "\n",
        "iterations = 300 #round(Ntr/batch_size)*1000\n",
        "lr = 1.4e-2\n",
        "lr_decay = 0.999\n",
        "reg = 5e-8\n",
        "loss_history = []\n",
        "train_acc_history = []\n",
        "val_acc_history = []\n",
        "seed = 0\n",
        "rng = np.random.default_rng(seed=seed)\n",
        "\n",
        "for t in range(iterations):\n",
        "    indices = np.arange(Ntr)\n",
        "    rng.shuffle(indices)\n",
        "    x = x_train[indices]\n",
        "    y = y_train[indices]\n",
        "    # Forward pass\n",
        "    h = 1.0/(1.0+np.exp(-(x.dot(w1)+b1)))\n",
        "    y_pred = h.dot(w2)+b2\n",
        "\n",
        "    loss = (1/batch_size)*np.square(y_pred-y).sum() + reg*(np.sum(w2**2)+np.sum(w1**2))\n",
        "    loss_history.append(loss)\n",
        "    \n",
        "    # Backward pass\n",
        "    dy_pred = y_pred-y\n",
        "    dw2 = (2/batch_size)*h.T.dot(dy_pred)+2*reg*w2\n",
        "    db2 = (2/batch_size)*dy_pred.sum(axis = 0)\n",
        "    dh = (2/batch_size)*dy_pred.dot(w2.T)\n",
        "    dw1 = x.T.dot(dh*h*(1-h))+2*reg*w1\n",
        "    db1 = (dh*h*(1-h)).sum(axis=0)\n",
        "    w1 = w1-lr*dw1\n",
        "    w2 = w2-lr*dw2\n",
        "    b1 = b1-lr*db1\n",
        "    b2 = b2-lr*db2\n",
        "    lr = lr*lr_decay\n",
        "\n",
        "    #train data accuracy\n",
        "    h_train = 1.0/(1.0+np.exp(-(x_train.dot(w1)+b1)))\n",
        "    y_pred_train = h_train.dot(w2)+b2\n",
        "    train_acc = 1/Ntr*(np.argmax(y_train,axis=1)==np.argmax(y_pred_train,axis=1)).sum()\n",
        "    train_acc_history.append(train_acc)\n",
        "\n",
        "    #test data acuracy\n",
        "    h_test = 1.0/(1.0+np.exp(-(x_test.dot(w1)+b1)))\n",
        "    y_pred_test = h_test.dot(w2)+b2\n",
        "    test_acc = 1/Nte*(np.argmax(y_test,axis=1)==np.argmax(y_pred_test,axis=1)).sum()\n",
        "    val_acc_history.append(test_acc)\n",
        "\n",
        "    if t%20==0:\n",
        "        print(\"Iteration \" + str(t) + \" : loss = \" + str(loss))\n",
        "        print(\"train accuracy :\", train_acc)\n",
        "        print(\"test accuracy :\", test_acc)\n",
        "\n"
      ],
      "execution_count": 4,
      "outputs": [
        {
          "output_type": "stream",
          "text": [
            "w1: (3072, 200)\n",
            "b1: (200,)\n",
            "w2: (3072, 200)\n",
            "b2: (200,)\n",
            "Iteration 0 : loss = 1.00002633352576\n",
            "train accuracy : 0.11948\n",
            "test accuracy : 0.11910000000000001\n",
            "Iteration 20 : loss = 0.8406305356837718\n",
            "train accuracy : 0.27702000000000004\n",
            "test accuracy : 0.2692\n",
            "Iteration 40 : loss = 0.8234340704197777\n",
            "train accuracy : 0.32698000000000005\n",
            "test accuracy : 0.32380000000000003\n",
            "Iteration 60 : loss = 0.8021713662901199\n",
            "train accuracy : 0.35544000000000003\n",
            "test accuracy : 0.3573\n",
            "Iteration 80 : loss = 0.7964189473170277\n",
            "train accuracy : 0.37218\n",
            "test accuracy : 0.3672\n",
            "Iteration 100 : loss = 0.7836127330255858\n",
            "train accuracy : 0.39512\n",
            "test accuracy : 0.3874\n",
            "Iteration 120 : loss = 0.7728649237638819\n",
            "train accuracy : 0.40974000000000005\n",
            "test accuracy : 0.39990000000000003\n",
            "Iteration 140 : loss = 0.7675028612618815\n",
            "train accuracy : 0.42782000000000003\n",
            "test accuracy : 0.41440000000000005\n",
            "Iteration 160 : loss = 0.7605246453593367\n",
            "train accuracy : 0.43100000000000005\n",
            "test accuracy : 0.41700000000000004\n",
            "Iteration 180 : loss = 0.7561052857407047\n",
            "train accuracy : 0.43870000000000003\n",
            "test accuracy : 0.42010000000000003\n",
            "Iteration 200 : loss = 0.7566604028013154\n",
            "train accuracy : 0.44698000000000004\n",
            "test accuracy : 0.431\n",
            "Iteration 220 : loss = 0.7459154621282833\n",
            "train accuracy : 0.45108000000000004\n",
            "test accuracy : 0.4307\n",
            "Iteration 240 : loss = 0.7455485099717041\n",
            "train accuracy : 0.44866000000000006\n",
            "test accuracy : 0.4248\n",
            "Iteration 260 : loss = 0.7390434890659792\n",
            "train accuracy : 0.46762000000000004\n",
            "test accuracy : 0.43510000000000004\n",
            "Iteration 280 : loss = 0.7333038704228556\n",
            "train accuracy : 0.45912000000000003\n",
            "test accuracy : 0.4278\n"
          ],
          "name": "stdout"
        }
      ]
    },
    {
      "cell_type": "code",
      "metadata": {
        "id": "C0phvng0xNSc",
        "colab": {
          "base_uri": "https://localhost:8080/",
          "height": 296
        },
        "outputId": "f5b3c1af-20ee-4366-d81c-1533c5720273"
      },
      "source": [
        "#loss\n",
        "fig , ax = plt.subplots()\n",
        "ax.plot(loss_history, label='loss')\n",
        "ax.set_xlabel('Epochs')\n",
        "ax.set_ylabel('Loss')"
      ],
      "execution_count": 6,
      "outputs": [
        {
          "output_type": "execute_result",
          "data": {
            "text/plain": [
              "Text(0, 0.5, 'Loss')"
            ]
          },
          "metadata": {
            "tags": []
          },
          "execution_count": 6
        },
        {
          "output_type": "display_data",
          "data": {
            "image/png": "[encoded data removed]",
            "text/plain": [
              "<Figure size 432x288 with 1 Axes>"
            ]
          },
          "metadata": {
            "tags": [],
            "needs_background": "light"
          }
        }
      ]
    },
    {
      "cell_type": "code",
      "metadata": {
        "id": "jJXIcnUVxW0K",
        "colab": {
          "base_uri": "https://localhost:8080/",
          "height": 296
        },
        "outputId": "b21c2ad2-1127-436b-8b92-9deaf565e876"
      },
      "source": [
        "#Train and Test accuracies\n",
        "fig , ax = plt.subplots()\n",
        "ax.plot(train_acc_history, label='Train set accuracy')\n",
        "ax.plot(val_acc_history, label = 'Test set accuracy')\n",
        "ax.set_xlabel('Epochs')\n",
        "ax.set_ylabel('Accuracy')\n",
        "ax.legend()"
      ],
      "execution_count": 9,
      "outputs": [
        {
          "output_type": "execute_result",
          "data": {
            "text/plain": [
              "<matplotlib.legend.Legend at 0x7f3dda315c50>"
            ]
          },
          "metadata": {
            "tags": []
          },
          "execution_count": 9
        },
        {
          "output_type": "display_data",
          "data": {
            "image/png": "[encoded data removed]",
            "text/plain": [
              "<Figure size 432x288 with 1 Axes>"
            ]
          },
          "metadata": {
            "tags": [],
            "needs_background": "light"
          }
        }
      ]
    },
    {
      "cell_type": "code",
      "metadata": {
        "id": "hxlzrLj8ja_e",
        "colab": {
          "base_uri": "https://localhost:8080/"
        },
        "outputId": "0d34fb58-b2ab-4406-c3d4-982aacaa25b9"
      },
      "source": [
        "print(\"Initial learning rate: \" + str(1.4e-2) + \", Train set accuracy: \" + str(train_acc_history[-1]) + \", Test set accuracy: \" + str(val_acc_history[-1]))"
      ],
      "execution_count": 8,
      "outputs": [
        {
          "output_type": "stream",
          "text": [
            "Initial learning rate: 0.014, Train set accuracy: 0.45674000000000003, Test set accuracy: 0.4253\n"
          ],
          "name": "stdout"
        }
      ]
    },
    {
      "cell_type": "code",
      "metadata": {
        "id": "qMWdMnvU_Hu4"
      },
      "source": [
        ""
      ],
      "execution_count": null,
      "outputs": []
    }
  ]
}